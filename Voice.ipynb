{
  "cells": [
    {
      "cell_type": "markdown",
      "source": [
        "# Follow my instagram : https://www.instagram.com/xsocialandapps/\n"
      ],
      "metadata": {
        "id": "Xq3Ei8QfoTg-"
      }
    },
    {
      "cell_type": "markdown",
      "source": [
        "\n",
        "# installation\n",
        "\n"
      ],
      "metadata": {
        "id": "kbVXgwXEoFc0"
      }
    },
    {
      "cell_type": "markdown",
      "source": [],
      "metadata": {
        "id": "s2nolSGXoRmr"
      }
    },
    {
      "cell_type": "code",
      "execution_count": null,
      "metadata": {
        "id": "VNJjPYk_j_e0"
      },
      "outputs": [],
      "source": [
        "%cd /content\n",
        "!git lfs install\n",
        "!git clone https://github.com/zachysaur/voice-voice.git\n",
        "%cd /content/voice-voice\n",
        "!pip install torch torchvision torchaudio\n",
        "!pip install -r requirements.txt\n",
        "\n"
      ]
    },
    {
      "cell_type": "markdown",
      "source": [
        "# Run with Gradio"
      ],
      "metadata": {
        "id": "FMXzIu0goMCs"
      }
    },
    {
      "cell_type": "code",
      "execution_count": null,
      "metadata": {
        "colab": {
          "background_save": true
        },
        "id": "a3ELPr9Pk2gV"
      },
      "outputs": [],
      "source": [
        "!python app.py"
      ]
    }
  ],
  "metadata": {
    "accelerator": "GPU",
    "colab": {
      "gpuType": "T4",
      "provenance": []
    },
    "kernelspec": {
      "display_name": "Python 3",
      "name": "python3"
    },
    "language_info": {
      "name": "python"
    }
  },
  "nbformat": 4,
  "nbformat_minor": 0
}